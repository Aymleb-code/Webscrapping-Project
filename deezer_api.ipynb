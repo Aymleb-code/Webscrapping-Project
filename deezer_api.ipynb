{
 "cells": [
  {
   "cell_type": "code",
   "execution_count": 2,
   "metadata": {},
   "outputs": [],
   "source": [
    "import requests"
   ]
  },
  {
   "cell_type": "code",
   "execution_count": 27,
   "metadata": {},
   "outputs": [],
   "source": [
    "# Set the base URL for the Deezer API\n",
    "base_url = \"https://api.deezer.com/search\""
   ]
  },
  {
   "cell_type": "code",
   "execution_count": 72,
   "metadata": {},
   "outputs": [],
   "source": [
    "def get_album_genre(album_id):\n",
    "    list_genres = []\n",
    "    album_url = f\"https://api.deezer.com/album/{album_id}\"\n",
    "    album_data = requests.get(album_url)\n",
    "    album_data = album_data.json()\n",
    "    for genre in album_data['genres']['data']:\n",
    "        list_genres.append(genre['name'])\n",
    "    return list_genres"
   ]
  },
  {
   "cell_type": "code",
   "execution_count": 78,
   "metadata": {},
   "outputs": [],
   "source": [
    "def get_track_infos(title, artist):# Set the search query\n",
    "    query = f\"{title}\t{artist}\"\n",
    "\n",
    "    # Set the parameters for the request\n",
    "    params = {\n",
    "        \"q\": query,\n",
    "        \"limit\": 1\n",
    "    }\n",
    "\n",
    "    # Send the request to the Deezer API\n",
    "    response = requests.get(base_url, params=params)\n",
    "\n",
    "    data = response.json()\n",
    "    track = data['data'][0]\n",
    "\n",
    "    track_infos = dict()\n",
    "    track_infos['title'] = track['title']\n",
    "    track_infos['artist'] = track['artist']['name']\n",
    "    track_infos['genres'] = get_album_genre(track['album']['id'])\n",
    "\n",
    "    return track_infos"
   ]
  }
 ],
 "metadata": {
  "kernelspec": {
   "display_name": "Python 3",
   "language": "python",
   "name": "python3"
  },
  "language_info": {
   "codemirror_mode": {
    "name": "ipython",
    "version": 3
   },
   "file_extension": ".py",
   "mimetype": "text/x-python",
   "name": "python",
   "nbconvert_exporter": "python",
   "pygments_lexer": "ipython3",
   "version": "3.10.5"
  },
  "orig_nbformat": 4,
  "vscode": {
   "interpreter": {
    "hash": "f4ed3e9940b97d902ac761760b49b96ad2840956a24a82cb4cdaee56b1135042"
   }
  }
 },
 "nbformat": 4,
 "nbformat_minor": 2
}
