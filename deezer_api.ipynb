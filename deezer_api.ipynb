{
 "cells": [
  {
   "cell_type": "code",
   "execution_count": 4,
   "metadata": {},
   "outputs": [],
   "source": [
    "import requests"
   ]
  },
  {
   "cell_type": "code",
   "execution_count": 5,
   "metadata": {},
   "outputs": [],
   "source": [
    "# Set the base URL for the Deezer API\n",
    "base_url = \"https://api.deezer.com/search\""
   ]
  },
  {
   "cell_type": "code",
   "execution_count": 3,
   "metadata": {},
   "outputs": [
    {
     "name": "stdout",
     "output_type": "stream",
     "text": [
      "{'data': [{'id': 591421652, 'readable': True, 'title': 'Soul Daft Turk Punk', 'title_short': 'Soul Daft Turk Punk', 'title_version': '', 'link': 'https://www.deezer.com/track/591421652', 'duration': 106, 'rank': 78859, 'explicit_lyrics': False, 'explicit_content_lyrics': 0, 'explicit_content_cover': 2, 'preview': 'https://cdns-preview-3.dzcdn.net/stream/c-3ba480e00c89b12413863ac310a77aae-2.mp3', 'md5_image': 'fddc9435fe17e149541b9282161c4332', 'artist': {'id': 809170, 'name': 'NO ARTIST', 'link': 'https://www.deezer.com/artist/809170', 'picture': 'https://api.deezer.com/artist/809170/image', 'picture_small': 'https://e-cdns-images.dzcdn.net/images/artist/6c9c2a949cfd60b9888c02b733c32e9b/56x56-000000-80-0-0.jpg', 'picture_medium': 'https://e-cdns-images.dzcdn.net/images/artist/6c9c2a949cfd60b9888c02b733c32e9b/250x250-000000-80-0-0.jpg', 'picture_big': 'https://e-cdns-images.dzcdn.net/images/artist/6c9c2a949cfd60b9888c02b733c32e9b/500x500-000000-80-0-0.jpg', 'picture_xl': 'https://e-cdns-images.dzcdn.net/images/artist/6c9c2a949cfd60b9888c02b733c32e9b/1000x1000-000000-80-0-0.jpg', 'tracklist': 'https://api.deezer.com/artist/809170/top?limit=50', 'type': 'artist'}, 'album': {'id': 79561672, 'title': 'Grundstuff', 'cover': 'https://api.deezer.com/album/79561672/image', 'cover_small': 'https://e-cdns-images.dzcdn.net/images/cover/fddc9435fe17e149541b9282161c4332/56x56-000000-80-0-0.jpg', 'cover_medium': 'https://e-cdns-images.dzcdn.net/images/cover/fddc9435fe17e149541b9282161c4332/250x250-000000-80-0-0.jpg', 'cover_big': 'https://e-cdns-images.dzcdn.net/images/cover/fddc9435fe17e149541b9282161c4332/500x500-000000-80-0-0.jpg', 'cover_xl': 'https://e-cdns-images.dzcdn.net/images/cover/fddc9435fe17e149541b9282161c4332/1000x1000-000000-80-0-0.jpg', 'md5_image': 'fddc9435fe17e149541b9282161c4332', 'tracklist': 'https://api.deezer.com/album/79561672/tracks', 'type': 'album'}, 'type': 'track'}], 'total': 1}\n"
     ]
    }
   ],
   "source": [
    "# Set the search query\n",
    "query = \"track:\"\n",
    "\n",
    "# Set the parameters for the request\n",
    "params = {\n",
    "    \"q\": query,\n",
    "    \"limit\": 1\n",
    "}\n",
    "\n",
    "# Send the request to the Deezer API\n",
    "response = requests.get(base_url, params=params)\n",
    "\n",
    "# Print the response\n",
    "print(response.json())"
   ]
  }
 ],
 "metadata": {
  "kernelspec": {
   "display_name": "Python 3",
   "language": "python",
   "name": "python3"
  },
  "language_info": {
   "codemirror_mode": {
    "name": "ipython",
    "version": 3
   },
   "file_extension": ".py",
   "mimetype": "text/x-python",
   "name": "python",
   "nbconvert_exporter": "python",
   "pygments_lexer": "ipython3",
   "version": "3.10.5"
  },
  "orig_nbformat": 4,
  "vscode": {
   "interpreter": {
    "hash": "f4ed3e9940b97d902ac761760b49b96ad2840956a24a82cb4cdaee56b1135042"
   }
  }
 },
 "nbformat": 4,
 "nbformat_minor": 2
}
