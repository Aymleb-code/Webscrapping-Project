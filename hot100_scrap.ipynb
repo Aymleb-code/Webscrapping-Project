{
 "cells": [
  {
   "cell_type": "code",
   "execution_count": 1,
   "metadata": {},
   "outputs": [],
   "source": [
    "from selenium import webdriver\n",
    "from selenium.webdriver.common.keys import Keys\n",
    "from selenium.webdriver.common.by import By\n",
    "from bs4 import BeautifulSoup\n",
    "import pandas as pd\n",
    "import time\n",
    "from time import sleep"
   ]
  },
  {
   "cell_type": "code",
   "execution_count": 2,
   "metadata": {},
   "outputs": [],
   "source": [
    "chromedriver_path = r\"C:/Users/Aymeric Leboucher/OneDrive - De Vinci/ESILV/A5/Webscrapping/TP2/chromedriver.exe\""
   ]
  },
  {
   "cell_type": "code",
   "execution_count": 3,
   "metadata": {},
   "outputs": [],
   "source": [
    "def get_page_source(link):\n",
    "    driver = webdriver.Chrome(chromedriver_path)\n",
    "    driver.get(link)\n",
    "    src=driver.page_source\n",
    "    return src"
   ]
  },
  {
   "cell_type": "code",
   "execution_count": 4,
   "metadata": {},
   "outputs": [],
   "source": [
    "def page_parser(page):\n",
    "    parser = BeautifulSoup(page, \"lxml\")\n",
    "    table = parser.find(\"div\", attrs={\"class\":\"chart-results-list // lrv-u-padding-t-150 lrv-u-padding-t-050@mobile-max\"})\n",
    "    return table"
   ]
  },
  {
   "cell_type": "code",
   "execution_count": 5,
   "metadata": {},
   "outputs": [],
   "source": [
    "to_remove_from_song_titles = [ 'Imprint/Promotion Label:',\n",
    " 'Songwriter(s):',\n",
    " 'Producer(s):']\n",
    "\n",
    "def extract_song_titles(table):\n",
    "    song_titles = table.find_all(\"h3\")\n",
    "    ori_songlist = [h.text.strip() for h in song_titles[2:]]\n",
    "    songlist = [word for word in ori_songlist if word not in to_remove_from_song_titles]\n",
    "    return songlist"
   ]
  },
  {
   "cell_type": "code",
   "execution_count": 6,
   "metadata": {},
   "outputs": [],
   "source": [
    "def extract_artists(table):\n",
    "    to_remove_from_artists = [\"\",'Share Chart on Twitter','Share Chart on Embed', 'This Week',\n",
    "                            'Award',\n",
    "                            'Last Week',\n",
    "                            'Peak Pos.',\n",
    "                            'Wks on Chart',\n",
    "                            'Twitter',\n",
    "                            'Share Chart on Copy Link',\n",
    "                            'Copy Link',\n",
    "                            'Share Chart on Facebook',\n",
    "                            'Facebook',\n",
    "                            'Embed',\n",
    "                            'RIAA Certification:',\n",
    "                            'Diamond',\n",
    "                            \"Platinum\",\n",
    "                            'Platinum x2',\n",
    "                            'Platinum x3',\n",
    "                            'Platinum x4',\n",
    "                            'Platinum x5',\n",
    "                            'RE-\\nENTRY',\n",
    "                            'Gold',\n",
    "                            'NEW',\n",
    "                            \"-\"]\n",
    "\n",
    "    artists = table.find_all(\"span\")\n",
    "    artists = [h.text.strip() for h in artists]\n",
    "    artists = [artists[i] for i in range(len(artists)) if artists[i] not in to_remove_from_artists if not artists[i].isdigit()]\n",
    "    return artists "
   ]
  },
  {
   "cell_type": "code",
   "execution_count": 7,
   "metadata": {},
   "outputs": [],
   "source": [
    "def convert_to_top_100(songlist, artists):\n",
    "    top_100 = pd.concat([pd.Series(songlist), pd.Series(artists)], axis=1)\n",
    "    top_100.rename(columns = {0:\"Song_Title\", 1:\"Artist\"}, inplace=True)\n",
    "    return top_100"
   ]
  },
  {
   "cell_type": "code",
   "execution_count": 8,
   "metadata": {},
   "outputs": [],
   "source": [
    "def get_top_100(year, month, day):\n",
    "    month = str(month)\n",
    "    if len(month)==1:\n",
    "        month = \"0\" + month\n",
    "    day = str(day)\n",
    "    if len(day)==1:\n",
    "        day = \"0\" + day\n",
    "    print(year, \"/\", month, \"/\", day)\n",
    "    link = f\"https://www.billboard.com/charts/hot-100/{year}-{month}-{day}/\"\n",
    "    src = get_page_source(link)\n",
    "    table = page_parser(src)\n",
    "    songlist = extract_song_titles(table)\n",
    "    artists = extract_artists(table)\n",
    "    top_100 = convert_to_top_100(songlist, artists)\n",
    "    return top_100"
   ]
  },
  {
   "cell_type": "code",
   "execution_count": 9,
   "metadata": {},
   "outputs": [
    {
     "name": "stdout",
     "output_type": "stream",
     "text": [
      "1989 / 02 / 10\n"
     ]
    },
    {
     "data": {
      "text/html": [
       "<div>\n",
       "<style scoped>\n",
       "    .dataframe tbody tr th:only-of-type {\n",
       "        vertical-align: middle;\n",
       "    }\n",
       "\n",
       "    .dataframe tbody tr th {\n",
       "        vertical-align: top;\n",
       "    }\n",
       "\n",
       "    .dataframe thead th {\n",
       "        text-align: right;\n",
       "    }\n",
       "</style>\n",
       "<table border=\"1\" class=\"dataframe\">\n",
       "  <thead>\n",
       "    <tr style=\"text-align: right;\">\n",
       "      <th></th>\n",
       "      <th>Song_Title</th>\n",
       "      <th>Artist</th>\n",
       "    </tr>\n",
       "  </thead>\n",
       "  <tbody>\n",
       "    <tr>\n",
       "      <th>0</th>\n",
       "      <td>Straight Up</td>\n",
       "      <td>Paula Abdul</td>\n",
       "    </tr>\n",
       "    <tr>\n",
       "      <th>1</th>\n",
       "      <td>When I'm With You</td>\n",
       "      <td>Sheriff</td>\n",
       "    </tr>\n",
       "    <tr>\n",
       "      <th>2</th>\n",
       "      <td>Wild Thing</td>\n",
       "      <td>Tone-Loc</td>\n",
       "    </tr>\n",
       "    <tr>\n",
       "      <th>3</th>\n",
       "      <td>Born To Be My Baby</td>\n",
       "      <td>Bon Jovi</td>\n",
       "    </tr>\n",
       "    <tr>\n",
       "      <th>4</th>\n",
       "      <td>When The Children Cry</td>\n",
       "      <td>White Lion</td>\n",
       "    </tr>\n",
       "    <tr>\n",
       "      <th>...</th>\n",
       "      <td>...</td>\n",
       "      <td>...</td>\n",
       "    </tr>\n",
       "    <tr>\n",
       "      <th>95</th>\n",
       "      <td>Imagine</td>\n",
       "      <td>Tracie Spencer</td>\n",
       "    </tr>\n",
       "    <tr>\n",
       "      <th>96</th>\n",
       "      <td>Welcome To The Jungle</td>\n",
       "      <td>Guns N' Roses</td>\n",
       "    </tr>\n",
       "    <tr>\n",
       "      <th>97</th>\n",
       "      <td>Left To My Own Devices</td>\n",
       "      <td>Pet Shop Boys</td>\n",
       "    </tr>\n",
       "    <tr>\n",
       "      <th>98</th>\n",
       "      <td>Finish What Ya Started</td>\n",
       "      <td>Van Halen</td>\n",
       "    </tr>\n",
       "    <tr>\n",
       "      <th>99</th>\n",
       "      <td>Not Just Another Girl</td>\n",
       "      <td>Ivan Neville</td>\n",
       "    </tr>\n",
       "  </tbody>\n",
       "</table>\n",
       "<p>100 rows × 2 columns</p>\n",
       "</div>"
      ],
      "text/plain": [
       "                Song_Title          Artist\n",
       "0              Straight Up     Paula Abdul\n",
       "1        When I'm With You         Sheriff\n",
       "2               Wild Thing        Tone-Loc\n",
       "3       Born To Be My Baby        Bon Jovi\n",
       "4    When The Children Cry      White Lion\n",
       "..                     ...             ...\n",
       "95                 Imagine  Tracie Spencer\n",
       "96   Welcome To The Jungle   Guns N' Roses\n",
       "97  Left To My Own Devices   Pet Shop Boys\n",
       "98  Finish What Ya Started       Van Halen\n",
       "99   Not Just Another Girl    Ivan Neville\n",
       "\n",
       "[100 rows x 2 columns]"
      ]
     },
     "execution_count": 9,
     "metadata": {},
     "output_type": "execute_result"
    }
   ],
   "source": [
    "get_top_100(1989, 2, 10)"
   ]
  }
 ],
 "metadata": {
  "kernelspec": {
   "display_name": "Python 3",
   "language": "python",
   "name": "python3"
  },
  "language_info": {
   "codemirror_mode": {
    "name": "ipython",
    "version": 3
   },
   "file_extension": ".py",
   "mimetype": "text/x-python",
   "name": "python",
   "nbconvert_exporter": "python",
   "pygments_lexer": "ipython3",
   "version": "3.10.5"
  },
  "orig_nbformat": 4,
  "vscode": {
   "interpreter": {
    "hash": "f4ed3e9940b97d902ac761760b49b96ad2840956a24a82cb4cdaee56b1135042"
   }
  }
 },
 "nbformat": 4,
 "nbformat_minor": 2
}
