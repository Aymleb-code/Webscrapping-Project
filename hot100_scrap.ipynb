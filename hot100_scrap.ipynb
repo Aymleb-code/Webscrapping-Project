{
 "cells": [
  {
   "attachments": {},
   "cell_type": "markdown",
   "metadata": {},
   "source": [
    "# Imports"
   ]
  },
  {
   "cell_type": "code",
   "execution_count": 26,
   "metadata": {},
   "outputs": [],
   "source": [
    "from selenium import webdriver\n",
    "from selenium.webdriver.common.keys import Keys\n",
    "from selenium.webdriver.common.by import By\n",
    "from selenium.webdriver.chrome.service import Service as ChromeService\n",
    "from bs4 import BeautifulSoup\n",
    "import pandas as pd\n",
    "import time\n",
    "import collections\n",
    "from time import sleep\n",
    "from functools import wraps\n",
    "\n",
    "from tqdm import tqdm\n",
    "tqdm.pandas()\n",
    "\n",
    "from IPython.display import clear_output\n",
    "\n",
    "import requests"
   ]
  },
  {
   "cell_type": "code",
   "execution_count": 4,
   "metadata": {},
   "outputs": [],
   "source": [
    "def timeit(func):\n",
    "    @wraps(func)\n",
    "    def timeit_wrapper(*args, **kwargs):\n",
    "        start_time = time.perf_counter()\n",
    "        result = func(*args, **kwargs)\n",
    "        end_time = time.perf_counter()\n",
    "        total_time = end_time - start_time\n",
    "        print(f'Function {func.__name__} {args} Took {total_time:.4f} seconds')\n",
    "        return result\n",
    "    return timeit_wrapper"
   ]
  },
  {
   "attachments": {},
   "cell_type": "markdown",
   "metadata": {},
   "source": [
    "# Deezer API"
   ]
  },
  {
   "cell_type": "code",
   "execution_count": 5,
   "metadata": {},
   "outputs": [],
   "source": [
    "# Set the base URL for the Deezer API\n",
    "base_url = \"https://api.deezer.com/search\""
   ]
  },
  {
   "cell_type": "code",
   "execution_count": 94,
   "metadata": {},
   "outputs": [],
   "source": [
    "def deezer_query(title, artist):\n",
    "    query = f\"{title}\t{artist}\"\n",
    "\n",
    "    # Set the parameters for the request\n",
    "    params = { \"q\": query, \"limit\": 1}\n",
    "\n",
    "    # Send the request to the Deezer API\n",
    "    response = requests.get(base_url, params=params)\n",
    "\n",
    "    data = response.json()\n",
    "    return data "
   ]
  },
  {
   "cell_type": "code",
   "execution_count": 6,
   "metadata": {},
   "outputs": [],
   "source": [
    "def get_album_genre(album_id):\n",
    "    list_genres = []\n",
    "    album_url = f\"https://api.deezer.com/album/{album_id}\"\n",
    "    album_data = requests.get(album_url)\n",
    "    album_data = album_data.json()\n",
    "    for genre in album_data['genres']['data']:\n",
    "        list_genres.append(genre['name'])\n",
    "    return list_genres"
   ]
  },
  {
   "cell_type": "code",
   "execution_count": 7,
   "metadata": {},
   "outputs": [],
   "source": [
    "def get_track_genres(title, artist):# Set the search query\n",
    "    query = f\"{title}\t{artist}\"\n",
    "\n",
    "    # Set the parameters for the request\n",
    "    params = { \"q\": query, \"limit\": 1}\n",
    "\n",
    "    # Send the request to the Deezer API\n",
    "    response = requests.get(base_url, params=params)\n",
    "\n",
    "    data = response.json()\n",
    "\n",
    "    try:\n",
    "        track = data['data'][0]\n",
    "        genres = get_album_genre(track['album']['id'])\n",
    "\n",
    "    except (IndexError, KeyError):\n",
    "        return []\n",
    "\n",
    "    return genres"
   ]
  },
  {
   "cell_type": "code",
   "execution_count": 95,
   "metadata": {},
   "outputs": [],
   "source": [
    "def get_track_additional_infos(title, artist, genre=True):# Set the search query\n",
    "    data = deezer_query(title, artist)\n",
    "    try:\n",
    "        track = data['data'][0]\n",
    "        track_infos = dict()\n",
    "        track_infos['explicit_lyrics'] = 1 if bool(track['explicit_lyrics']) else 0\n",
    "        track_infos['duration'] = int(track['duration'])\n",
    "        if genre: \n",
    "            track_infos['genres'] = get_album_genre(track['album']['id'])\n",
    "\n",
    "    except (IndexError, KeyError):\n",
    "        track_infos = dict()\n",
    "        track_infos['explicit_lyrics'] = None\n",
    "        track_infos['duration'] = None\n",
    "        track_infos['genres'] = []\n",
    "\n",
    "    return track_infos"
   ]
  },
  {
   "attachments": {},
   "cell_type": "markdown",
   "metadata": {},
   "source": [
    "# HOT100"
   ]
  },
  {
   "cell_type": "code",
   "execution_count": 9,
   "metadata": {},
   "outputs": [],
   "source": [
    "chromedriver_path = r\"C:/Users/Aymeric Leboucher/OneDrive - De Vinci/ESILV/A5/Webscrapping/TP2/chromedriver.exe\"\n",
    "chromedriver_path_erget = r\"C:/Users/AymericLEBOUCHER/OneDrive - Groupe ERGET/Ressources/ESILV/Webscrapping/chromedriver_win32/chromedriver.exe\""
   ]
  },
  {
   "cell_type": "code",
   "execution_count": 10,
   "metadata": {},
   "outputs": [],
   "source": [
    "def get_page_source(link, driver):\n",
    "    driver.get(link)\n",
    "    src=driver.page_source\n",
    "    return src"
   ]
  },
  {
   "cell_type": "code",
   "execution_count": 11,
   "metadata": {},
   "outputs": [],
   "source": [
    "def page_parser(page):\n",
    "    parser = BeautifulSoup(page, \"lxml\")\n",
    "    table = parser.find(\"div\", attrs={\"class\":\"chart-results-list // lrv-u-padding-t-150 lrv-u-padding-t-050@mobile-max\"})\n",
    "    return table"
   ]
  },
  {
   "cell_type": "code",
   "execution_count": 12,
   "metadata": {},
   "outputs": [],
   "source": [
    "to_remove_from_song_titles = [ 'Imprint/Promotion Label:',\n",
    " 'Songwriter(s):',\n",
    " 'Producer(s):']\n",
    "\n",
    "def extract_song_titles(table):\n",
    "    song_titles = table.find_all(\"h3\")\n",
    "    ori_songlist = [h.text.strip() for h in song_titles[2:]]\n",
    "    songlist = [word for word in ori_songlist if word not in to_remove_from_song_titles]\n",
    "    return songlist"
   ]
  },
  {
   "cell_type": "code",
   "execution_count": 13,
   "metadata": {},
   "outputs": [],
   "source": [
    "\n",
    "def extract_artists(table):\n",
    "    to_remove_from_artists = [\"\",'Share Chart on Twitter','Share Chart on Embed', 'This Week',\n",
    "                            'Award',\n",
    "                            'Last Week',\n",
    "                            'Peak Pos.',\n",
    "                            'Wks on Chart',\n",
    "                            'Twitter',\n",
    "                            'Share Chart on Copy Link',\n",
    "                            'Copy Link',\n",
    "                            'Share Chart on Facebook',\n",
    "                            'Facebook',\n",
    "                            'Embed',\n",
    "                            'RIAA Certification:',\n",
    "                            'Diamond',\n",
    "                            \"Platinum\",\n",
    "                            'Platinum x2',\n",
    "                            'Platinum x3',\n",
    "                            'Platinum x4',\n",
    "                            'Platinum x5',\n",
    "                            'Platinum x6',\n",
    "                            'Platinum x7',\n",
    "                            'Platinum x8',\n",
    "                            'Platinum x9',\n",
    "                            'RE-\\nENTRY',\n",
    "                            'Gold',\n",
    "                            'NEW',\n",
    "                            \"-\"]\n",
    "\n",
    "    artists = table.find_all(\"span\")\n",
    "    artists = [h.text.strip() for h in artists]\n",
    "    artists = [artists[i] for i in range(len(artists)) if artists[i] not in to_remove_from_artists if not artists[i].isdigit()]\n",
    "    return artists "
   ]
  },
  {
   "cell_type": "code",
   "execution_count": 14,
   "metadata": {},
   "outputs": [],
   "source": [
    "def convert_to_top_100(songlist, artists):\n",
    "    top_100 = pd.concat([pd.Series(songlist), pd.Series(artists)], axis=1)\n",
    "    top_100.rename(columns = {0:\"title\", 1:\"artist\"}, inplace=True)\n",
    "    return top_100"
   ]
  },
  {
   "cell_type": "code",
   "execution_count": 15,
   "metadata": {},
   "outputs": [],
   "source": [
    "def additional_infos(row):\n",
    "    track_infos = get_track_additional_infos(row.title, row.artist)\n",
    "    row.genres = track_infos[\"genres\"]\n",
    "    row.duration = track_infos['duration']\n",
    "    row.explicit_content = track_infos['explicit_lyrics']\n",
    "    return row "
   ]
  },
  {
   "cell_type": "code",
   "execution_count": 16,
   "metadata": {},
   "outputs": [],
   "source": [
    "def genres(row):\n",
    "    row.genres = get_track_genres(row.title, row.artist)\n",
    "    return row "
   ]
  },
  {
   "cell_type": "code",
   "execution_count": 17,
   "metadata": {},
   "outputs": [],
   "source": [
    "service = ChromeService(executable_path=chromedriver_path)\n",
    "options = webdriver.ChromeOptions()\n",
    "options.add_argument('-headless')\n",
    "\n",
    "@timeit\n",
    "def get_top_100(year, month, day, service=service, verbose=0, additional=False):\n",
    "    driver = webdriver.Chrome(service=service, options=options)\n",
    "    month = str(month)\n",
    "    if len(month)==1:\n",
    "        month = \"0\" + month\n",
    "    day = str(day)\n",
    "    if len(day)==1:\n",
    "        day = \"0\" + day\n",
    "    link = f\"https://www.billboard.com/charts/hot-100/{year}-{month}-{day}/\"\n",
    "    src = get_page_source(link, driver)\n",
    "    table = page_parser(src)\n",
    "    songlist = extract_song_titles(table)\n",
    "    artists = extract_artists(table)\n",
    "    top_100 = convert_to_top_100(songlist, artists)\n",
    "    top_100['genres'] = None\n",
    "    if additional:\n",
    "        top_100['duration'] = None\n",
    "        top_100['explicit_content'] = None\n",
    "        top_100 = top_100.apply(additional_infos, axis=1)\n",
    "    else: \n",
    "        top_100 = top_100.apply(genres, axis=1)\n",
    "    if verbose==1:\n",
    "        freq = collections.Counter(top_100.genres.sum())\n",
    "        return top_100, dict(sorted(freq.items(), key=lambda x: x[1], reverse=True))\n",
    "    return top_100"
   ]
  },
  {
   "attachments": {},
   "cell_type": "markdown",
   "metadata": {},
   "source": [
    "# HOT100 Generator with Genres"
   ]
  },
  {
   "cell_type": "code",
   "execution_count": 24,
   "metadata": {},
   "outputs": [
    {
     "name": "stdout",
     "output_type": "stream",
     "text": [
      "Function get_top_100 (1958, 9, 1) Took 56.1519 seconds\n",
      "Function get_top_100 (1958, 10, 1) Took 47.6068 seconds\n",
      "Function get_top_100 (1958, 11, 1) Took 48.0370 seconds\n",
      "Function get_top_100 (1958, 12, 1) Took 45.9378 seconds\n"
     ]
    }
   ],
   "source": [
    "for annee in range(1958, 1959):\n",
    "    for month in range(9, 13):\n",
    "        top_100 = get_top_100(annee, month, 1, additional=True)\n",
    "        top_100.to_csv(f\"C:/Users/AymericLEBOUCHER/OneDrive - Groupe ERGET/Ressources/ESILV/Webscrapping/month_top_100/{annee}-{month}.csv\", sep=\";\")"
   ]
  },
  {
   "attachments": {},
   "cell_type": "markdown",
   "metadata": {},
   "source": [
    "# Completion with additional infos"
   ]
  },
  {
   "cell_type": "code",
   "execution_count": 74,
   "metadata": {},
   "outputs": [],
   "source": [
    "def add_additional_infos(row):\n",
    "    global songs_data\n",
    "    id = (row.title, row.artist)\n",
    "    if id in list(songs_data.id):\n",
    "        row.duration = songs_data[songs_data.id == id].iloc[0].duration\n",
    "        row.explicit_content = songs_data[songs_data.id == id].iloc[0].explicit_content\n",
    "    else: \n",
    "        infos = get_track_additional_infos(row.title, row.artist, genre=False)\n",
    "        row.duration = infos[\"duration\"]\n",
    "        row.explicit_content = infos[\"explicit_lyrics\"]\n",
    "        song_data = row.copy()\n",
    "        song_data[\"id\"]=(row.title, row.artist)\n",
    "        songs_data.loc[len(songs_data)] =  song_data\n",
    "        \n",
    "    return row"
   ]
  },
  {
   "cell_type": "code",
   "execution_count": 78,
   "metadata": {},
   "outputs": [
    {
     "name": "stderr",
     "output_type": "stream",
     "text": [
      "100%|██████████| 12/12 [24:38<00:00, 123.20s/it]\n"
     ]
    }
   ],
   "source": [
    "for annee in tqdm(range(1960, 1972)):\n",
    "    for month in range(1, 13):\n",
    "        top_100 = pd.read_csv(f\"C:/Users/AymericLEBOUCHER/OneDrive - Groupe ERGET/Ressources/ESILV/Webscrapping/month_top_100/{annee}-{month}.csv\", sep=\";\")\n",
    "        top_100['duration'] = None\n",
    "        top_100['explicit_content'] = None\n",
    "        top_100 = top_100.apply(add_additional_infos, axis=1)\n",
    "        del(top_100[top_100.columns[0]])\n",
    "        top_100.to_csv(f\"C:/Users/AymericLEBOUCHER/OneDrive - Groupe ERGET/Ressources/ESILV/Webscrapping/month_top_100/{annee}-{month}.csv\", sep=\";\")"
   ]
  },
  {
   "attachments": {},
   "cell_type": "markdown",
   "metadata": {},
   "source": [
    "# Songs Dataset"
   ]
  },
  {
   "cell_type": "code",
   "execution_count": 65,
   "metadata": {},
   "outputs": [],
   "source": [
    "songs_data = pd.DataFrame(columns=[\"id\", \"title\", \"artist\", \"genres\", \"duration\", \"explicit_content\"])"
   ]
  },
  {
   "cell_type": "code",
   "execution_count": null,
   "metadata": {},
   "outputs": [],
   "source": [
    "def enrich_songs_data(row):\n",
    "    global songs_data\n",
    "    row[\"id\"] = (row.title, row.artist)\n",
    "    id = (row.title, row.artist)\n",
    "    if id not in list(songs_data.id):\n",
    "        songs_data.loc[len(songs_data)] =  row\n",
    "\n",
    "for annee in tqdm(range(1972, 2022)):\n",
    "    for month in range(1, 13):\n",
    "        top_100 = pd.read_csv(f\"C:/Users/AymericLEBOUCHER/OneDrive - Groupe ERGET/Ressources/ESILV/Webscrapping/month_top_100/{annee}-{month}.csv\", sep=\";\")\n",
    "        top_100.apply(enrich_songs_data, axis=1)"
   ]
  },
  {
   "cell_type": "code",
   "execution_count": 129,
   "metadata": {},
   "outputs": [],
   "source": [
    "def search_additional_infos(row):\n",
    "    artist = row.artist\n",
    "    try:\n",
    "        artist_split = row.artist.split()\n",
    "        if len(artist_split)>2:\n",
    "            artist = \" \".join(artist_split[:2])\n",
    "    except AttributeError:\n",
    "        pass\n",
    "    \n",
    "    title = row.artist\n",
    "    try:\n",
    "        title_split = row.title.split()\n",
    "        if len(title_split)>2:\n",
    "            title = \" \".join(title_split[:2])\n",
    "    except AttributeError:\n",
    "        pass\n",
    "    track_infos = get_track_additional_infos(title, artist)\n",
    "    row.genres = track_infos[\"genres\"]\n",
    "    row.duration = track_infos['duration']\n",
    "    row.explicit_content = track_infos['explicit_lyrics']\n",
    "    return row \n"
   ]
  },
  {
   "cell_type": "code",
   "execution_count": null,
   "metadata": {},
   "outputs": [],
   "source": [
    "unfound_songs = unfound_songs[unfound_songs.duration.isnull()]\n",
    "unfound_songs = unfound_songs.progress_apply(search_additional_infos, axis=1)"
   ]
  },
  {
   "cell_type": "code",
   "execution_count": 130,
   "metadata": {},
   "outputs": [
    {
     "data": {
      "text/html": [
       "<div>\n",
       "<style scoped>\n",
       "    .dataframe tbody tr th:only-of-type {\n",
       "        vertical-align: middle;\n",
       "    }\n",
       "\n",
       "    .dataframe tbody tr th {\n",
       "        vertical-align: top;\n",
       "    }\n",
       "\n",
       "    .dataframe thead th {\n",
       "        text-align: right;\n",
       "    }\n",
       "</style>\n",
       "<table border=\"1\" class=\"dataframe\">\n",
       "  <thead>\n",
       "    <tr style=\"text-align: right;\">\n",
       "      <th></th>\n",
       "      <th>id</th>\n",
       "      <th>title</th>\n",
       "      <th>artist</th>\n",
       "      <th>genres</th>\n",
       "      <th>duration</th>\n",
       "      <th>explicit_content</th>\n",
       "    </tr>\n",
       "  </thead>\n",
       "  <tbody>\n",
       "    <tr>\n",
       "      <th>77</th>\n",
       "      <td>(Little Brass Band, David Seville)</td>\n",
       "      <td>Little Brass Band</td>\n",
       "      <td>David Seville</td>\n",
       "      <td>[]</td>\n",
       "      <td>NaN</td>\n",
       "      <td>NaN</td>\n",
       "    </tr>\n",
       "    <tr>\n",
       "      <th>94</th>\n",
       "      <td>(Old MacDonald, The Chargers)</td>\n",
       "      <td>Old MacDonald</td>\n",
       "      <td>The Chargers</td>\n",
       "      <td>[]</td>\n",
       "      <td>NaN</td>\n",
       "      <td>NaN</td>\n",
       "    </tr>\n",
       "    <tr>\n",
       "      <th>195</th>\n",
       "      <td>(Intermission Riff, Bernie Lowe Orchestra)</td>\n",
       "      <td>Intermission Riff</td>\n",
       "      <td>Bernie Lowe Orchestra</td>\n",
       "      <td>[]</td>\n",
       "      <td>NaN</td>\n",
       "      <td>NaN</td>\n",
       "    </tr>\n",
       "    <tr>\n",
       "      <th>205</th>\n",
       "      <td>(The Teen Commandments, Paul Anka-Geo. Hamilto...</td>\n",
       "      <td>The Teen Commandments</td>\n",
       "      <td>Paul Anka-Geo. Hamilton IV-Johnny Nash</td>\n",
       "      <td>[]</td>\n",
       "      <td>NaN</td>\n",
       "      <td>NaN</td>\n",
       "    </tr>\n",
       "    <tr>\n",
       "      <th>209</th>\n",
       "      <td>(A House, A Car And A Wedding Ring, Mike Preston)</td>\n",
       "      <td>A House, A Car And A Wedding Ring</td>\n",
       "      <td>Mike Preston</td>\n",
       "      <td>[]</td>\n",
       "      <td>NaN</td>\n",
       "      <td>NaN</td>\n",
       "    </tr>\n",
       "    <tr>\n",
       "      <th>...</th>\n",
       "      <td>...</td>\n",
       "      <td>...</td>\n",
       "      <td>...</td>\n",
       "      <td>...</td>\n",
       "      <td>...</td>\n",
       "      <td>...</td>\n",
       "    </tr>\n",
       "    <tr>\n",
       "      <th>28555</th>\n",
       "      <td>(Absolutely Right, Five Man Electrical Band)</td>\n",
       "      <td>Absolutely Right</td>\n",
       "      <td>Five Man Electrical Band</td>\n",
       "      <td>[]</td>\n",
       "      <td>NaN</td>\n",
       "      <td>NaN</td>\n",
       "    </tr>\n",
       "    <tr>\n",
       "      <th>28573</th>\n",
       "      <td>(Gimme Some Lovin'-Pt. 1, Traffic, Etc.)</td>\n",
       "      <td>Gimme Some Lovin'-Pt. 1</td>\n",
       "      <td>Traffic, Etc.</td>\n",
       "      <td>[]</td>\n",
       "      <td>NaN</td>\n",
       "      <td>NaN</td>\n",
       "    </tr>\n",
       "    <tr>\n",
       "      <th>28586</th>\n",
       "      <td>(If It's Alright With You, Rose Colored Glass)</td>\n",
       "      <td>If It's Alright With You</td>\n",
       "      <td>Rose Colored Glass</td>\n",
       "      <td>[]</td>\n",
       "      <td>NaN</td>\n",
       "      <td>NaN</td>\n",
       "    </tr>\n",
       "    <tr>\n",
       "      <th>28587</th>\n",
       "      <td>(I Bet He Don't Love You (Like I Love You), Th...</td>\n",
       "      <td>I Bet He Don't Love You (Like I Love You)</td>\n",
       "      <td>The Intruders</td>\n",
       "      <td>[]</td>\n",
       "      <td>NaN</td>\n",
       "      <td>NaN</td>\n",
       "    </tr>\n",
       "    <tr>\n",
       "      <th>28593</th>\n",
       "      <td>(The Girl Who Loved Me When, The Glass Bottle ...</td>\n",
       "      <td>The Girl Who Loved Me When</td>\n",
       "      <td>The Glass Bottle featuring Gary Criss</td>\n",
       "      <td>[]</td>\n",
       "      <td>NaN</td>\n",
       "      <td>NaN</td>\n",
       "    </tr>\n",
       "  </tbody>\n",
       "</table>\n",
       "<p>5351 rows × 6 columns</p>\n",
       "</div>"
      ],
      "text/plain": [
       "                                                      id  \\\n",
       "77                    (Little Brass Band, David Seville)   \n",
       "94                         (Old MacDonald, The Chargers)   \n",
       "195           (Intermission Riff, Bernie Lowe Orchestra)   \n",
       "205    (The Teen Commandments, Paul Anka-Geo. Hamilto...   \n",
       "209    (A House, A Car And A Wedding Ring, Mike Preston)   \n",
       "...                                                  ...   \n",
       "28555       (Absolutely Right, Five Man Electrical Band)   \n",
       "28573           (Gimme Some Lovin'-Pt. 1, Traffic, Etc.)   \n",
       "28586     (If It's Alright With You, Rose Colored Glass)   \n",
       "28587  (I Bet He Don't Love You (Like I Love You), Th...   \n",
       "28593  (The Girl Who Loved Me When, The Glass Bottle ...   \n",
       "\n",
       "                                           title  \\\n",
       "77                             Little Brass Band   \n",
       "94                                 Old MacDonald   \n",
       "195                            Intermission Riff   \n",
       "205                        The Teen Commandments   \n",
       "209            A House, A Car And A Wedding Ring   \n",
       "...                                          ...   \n",
       "28555                           Absolutely Right   \n",
       "28573                    Gimme Some Lovin'-Pt. 1   \n",
       "28586                   If It's Alright With You   \n",
       "28587  I Bet He Don't Love You (Like I Love You)   \n",
       "28593                 The Girl Who Loved Me When   \n",
       "\n",
       "                                       artist genres  duration  \\\n",
       "77                              David Seville     []       NaN   \n",
       "94                               The Chargers     []       NaN   \n",
       "195                     Bernie Lowe Orchestra     []       NaN   \n",
       "205    Paul Anka-Geo. Hamilton IV-Johnny Nash     []       NaN   \n",
       "209                              Mike Preston     []       NaN   \n",
       "...                                       ...    ...       ...   \n",
       "28555                Five Man Electrical Band     []       NaN   \n",
       "28573                           Traffic, Etc.     []       NaN   \n",
       "28586                      Rose Colored Glass     []       NaN   \n",
       "28587                           The Intruders     []       NaN   \n",
       "28593   The Glass Bottle featuring Gary Criss     []       NaN   \n",
       "\n",
       "       explicit_content  \n",
       "77                  NaN  \n",
       "94                  NaN  \n",
       "195                 NaN  \n",
       "205                 NaN  \n",
       "209                 NaN  \n",
       "...                 ...  \n",
       "28555               NaN  \n",
       "28573               NaN  \n",
       "28586               NaN  \n",
       "28587               NaN  \n",
       "28593               NaN  \n",
       "\n",
       "[5351 rows x 6 columns]"
      ]
     },
     "execution_count": 130,
     "metadata": {},
     "output_type": "execute_result"
    }
   ],
   "source": [
    "unfound_songs[unfound_songs.duration.isnull()]"
   ]
  },
  {
   "cell_type": "code",
   "execution_count": 127,
   "metadata": {},
   "outputs": [
    {
     "data": {
      "text/plain": [
       "{'data': [{'id': 2536195,\n",
       "   'readable': True,\n",
       "   'title': \"Gimme Some Lovin' (Live Version)\",\n",
       "   'title_short': \"Gimme Some Lovin'\",\n",
       "   'title_version': '(Live Version)',\n",
       "   'link': 'https://www.deezer.com/track/2536195',\n",
       "   'duration': 542,\n",
       "   'rank': 198171,\n",
       "   'explicit_lyrics': False,\n",
       "   'explicit_content_lyrics': 0,\n",
       "   'explicit_content_cover': 2,\n",
       "   'preview': 'https://cdns-preview-a.dzcdn.net/stream/c-a93dbb615b0077d38d946fc5bd751392-8.mp3',\n",
       "   'md5_image': 'e8b53d6b92888a36e500d6ba2d7c731e',\n",
       "   'artist': {'id': 6126,\n",
       "    'name': 'Traffic',\n",
       "    'link': 'https://www.deezer.com/artist/6126',\n",
       "    'picture': 'https://api.deezer.com/artist/6126/image',\n",
       "    'picture_small': 'https://e-cdns-images.dzcdn.net/images/artist/ba8c92b33603ca638c69fbb0fdb7cf08/56x56-000000-80-0-0.jpg',\n",
       "    'picture_medium': 'https://e-cdns-images.dzcdn.net/images/artist/ba8c92b33603ca638c69fbb0fdb7cf08/250x250-000000-80-0-0.jpg',\n",
       "    'picture_big': 'https://e-cdns-images.dzcdn.net/images/artist/ba8c92b33603ca638c69fbb0fdb7cf08/500x500-000000-80-0-0.jpg',\n",
       "    'picture_xl': 'https://e-cdns-images.dzcdn.net/images/artist/ba8c92b33603ca638c69fbb0fdb7cf08/1000x1000-000000-80-0-0.jpg',\n",
       "    'tracklist': 'https://api.deezer.com/artist/6126/top?limit=50',\n",
       "    'type': 'artist'},\n",
       "   'album': {'id': 248547,\n",
       "    'title': 'Welcome To The Canteen',\n",
       "    'cover': 'https://api.deezer.com/album/248547/image',\n",
       "    'cover_small': 'https://e-cdns-images.dzcdn.net/images/cover/e8b53d6b92888a36e500d6ba2d7c731e/56x56-000000-80-0-0.jpg',\n",
       "    'cover_medium': 'https://e-cdns-images.dzcdn.net/images/cover/e8b53d6b92888a36e500d6ba2d7c731e/250x250-000000-80-0-0.jpg',\n",
       "    'cover_big': 'https://e-cdns-images.dzcdn.net/images/cover/e8b53d6b92888a36e500d6ba2d7c731e/500x500-000000-80-0-0.jpg',\n",
       "    'cover_xl': 'https://e-cdns-images.dzcdn.net/images/cover/e8b53d6b92888a36e500d6ba2d7c731e/1000x1000-000000-80-0-0.jpg',\n",
       "    'md5_image': 'e8b53d6b92888a36e500d6ba2d7c731e',\n",
       "    'tracklist': 'https://api.deezer.com/album/248547/tracks',\n",
       "    'type': 'album'},\n",
       "   'type': 'track'}],\n",
       " 'total': 6,\n",
       " 'next': 'https://api.deezer.com/search?q=Gimme%20Some%09Traffic&limit=1&index=1'}"
      ]
     },
     "execution_count": 127,
     "metadata": {},
     "output_type": "execute_result"
    }
   ],
   "source": [
    "deezer_query(\"Gimme Some\", \"Traffic\")\t"
   ]
  },
  {
   "cell_type": "code",
   "execution_count": 90,
   "metadata": {},
   "outputs": [],
   "source": [
    "songs_data.to_csv(f\"C:/Users/AymericLEBOUCHER/OneDrive - Groupe ERGET/Ressources/ESILV/Webscrapping/songs_data.csv\", sep=\";\")"
   ]
  }
 ],
 "metadata": {
  "kernelspec": {
   "display_name": "Python 3",
   "language": "python",
   "name": "python3"
  },
  "language_info": {
   "codemirror_mode": {
    "name": "ipython",
    "version": 3
   },
   "file_extension": ".py",
   "mimetype": "text/x-python",
   "name": "python",
   "nbconvert_exporter": "python",
   "pygments_lexer": "ipython3",
   "version": "3.11.0"
  },
  "orig_nbformat": 4,
  "vscode": {
   "interpreter": {
    "hash": "9cac6ca5711206a852d0002262a3b61d4dce708efe823e1adadf1f1c08297907"
   }
  }
 },
 "nbformat": 4,
 "nbformat_minor": 2
}
